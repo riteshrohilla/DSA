{
 "cells": [
  {
   "cell_type": "markdown",
   "id": "dc73e7e5",
   "metadata": {},
   "source": [
    "# Binary Search"
   ]
  },
  {
   "cell_type": "code",
   "execution_count": 13,
   "id": "a63d5bc8",
   "metadata": {},
   "outputs": [
    {
     "name": "stdout",
     "output_type": "stream",
     "text": [
      "-1\n"
     ]
    }
   ],
   "source": [
    "def binarySearch(arr, element):\n",
    "    start = 0\n",
    "    end = len(arr)-1\n",
    "    \n",
    "    while(start<=end):\n",
    "        mid=(start+end)//2\n",
    "        if(arr[mid] == element):\n",
    "            return mid\n",
    "        elif(arr[mid] < element):\n",
    "            start = mid + 1\n",
    "        else:\n",
    "            end = mid - 1\n",
    "    return -1\n",
    "    \n",
    "arr = [1,3,8,9,11,13,70,89,98]\n",
    "index = binarySearch(arr, 21)\n",
    "print(index)"
   ]
  },
  {
   "cell_type": "markdown",
   "id": "12be80cc",
   "metadata": {},
   "source": [
    "# Selection Sort"
   ]
  },
  {
   "cell_type": "code",
   "execution_count": 7,
   "id": "77eae9c1",
   "metadata": {},
   "outputs": [
    {
     "name": "stdout",
     "output_type": "stream",
     "text": [
      "[0, 1, 2, 3, 4, 6, 8]\n"
     ]
    }
   ],
   "source": [
    "def selectionSort(arr):\n",
    "    length = len(arr)\n",
    "    # put the correct element at ith position\n",
    "    for i in range(length-1):\n",
    "        minIndex = i\n",
    "        #calculating the index of minimum Element for this iteration\n",
    "        for j in range(i + 1, length):\n",
    "            if(arr[j] < arr[minIndex]):\n",
    "                minIndex = j\n",
    "        arr[i], arr[minIndex] = arr[minIndex],arr[i]\n",
    "        \n",
    "\n",
    "arr = [1,3,2,4,0,6,8]\n",
    "selectionSort(arr)\n",
    "print(arr)\n"
   ]
  },
  {
   "cell_type": "code",
   "execution_count": 6,
   "id": "383b3696",
   "metadata": {},
   "outputs": [
    {
     "name": "stdout",
     "output_type": "stream",
     "text": [
      "[0, 1, 2, 3, 4, 6, 8]\n"
     ]
    }
   ],
   "source": [
    "\n",
    "def selectionSort(arr):\n",
    "    length = len(arr)\n",
    "    # put the correct element at ith position\n",
    "    for i in range(length-1):\n",
    "        minIndex = i\n",
    "        #calculating the index of minimum element for this iteration\n",
    "        for j in range(i+1, length):\n",
    "            if(arr[j] < arr[minIndex]):\n",
    "                minIndex = j\n",
    "                \n",
    "        arr[i],arr[minIndex] = arr[minIndex], arr[i]\n",
    "    \n",
    "arr = [1,3,2,4,0,6,8]\n",
    "selectionSort(arr)\n",
    "print(arr)"
   ]
  },
  {
   "cell_type": "markdown",
   "id": "d025dd6b",
   "metadata": {},
   "source": [
    "# Merge two sorted array"
   ]
  },
  {
   "cell_type": "code",
   "execution_count": null,
   "id": "e1d9f499",
   "metadata": {},
   "outputs": [],
   "source": [
    "def mergeSortedArray(arr1, arr2):\n",
    "    i = 0\n",
    "    j = 0\n",
    "    len1 = len(arr1)\n",
    "    len2 = len(arr2)\n",
    "    \n",
    "    arr = []\n",
    "    \n",
    "    while((i<len1) and (j<len2)):\n",
    "        if(arr1[i] < arr2[j]):\n",
    "            arr.append(arr1[i])\n",
    "        else:\n",
    "            arr.append(arr2[j])\n",
    "            j = j + 1\n",
    "    while(i < len1):\n",
    "        arr.append(arr1[i])\n",
    "        i = i + 1\n",
    "        \n",
    "    while(j < len2):\n",
    "        arr.append(arr2[j])\n",
    "        j = j + 1\n",
    "    \n",
    "    return arr\n",
    "\n",
    "arr1 = [1,4,9,10]\n",
    "arr2 = [2,3,6,7,8]\n",
    "arr = mergeSortedArray(arr1, arr2)\n",
    "print(arr)"
   ]
  },
  {
   "cell_type": "code",
   "execution_count": null,
   "id": "0c4c3cfc",
   "metadata": {},
   "outputs": [],
   "source": []
  }
 ],
 "metadata": {
  "kernelspec": {
   "display_name": "Python 3 (ipykernel)",
   "language": "python",
   "name": "python3"
  },
  "language_info": {
   "codemirror_mode": {
    "name": "ipython",
    "version": 3
   },
   "file_extension": ".py",
   "mimetype": "text/x-python",
   "name": "python",
   "nbconvert_exporter": "python",
   "pygments_lexer": "ipython3",
   "version": "3.9.12"
  }
 },
 "nbformat": 4,
 "nbformat_minor": 5
}
