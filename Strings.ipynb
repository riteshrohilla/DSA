{
 "cells": [
  {
   "cell_type": "markdown",
   "id": "736720f1",
   "metadata": {},
   "source": [
    "# Strings\n"
   ]
  },
  {
   "cell_type": "code",
   "execution_count": 1,
   "id": "9ba9d59f",
   "metadata": {},
   "outputs": [],
   "source": [
    "s = 'My name is Ritesh'"
   ]
  },
  {
   "cell_type": "code",
   "execution_count": 2,
   "id": "657a2052",
   "metadata": {},
   "outputs": [
    {
     "data": {
      "text/plain": [
       "'My name is Ritesh'"
      ]
     },
     "execution_count": 2,
     "metadata": {},
     "output_type": "execute_result"
    }
   ],
   "source": [
    "s"
   ]
  },
  {
   "cell_type": "code",
   "execution_count": 3,
   "id": "eafb4c97",
   "metadata": {},
   "outputs": [],
   "source": [
    "s = \"My name is Ritesh\""
   ]
  },
  {
   "cell_type": "code",
   "execution_count": 4,
   "id": "2c749ac1",
   "metadata": {},
   "outputs": [
    {
     "data": {
      "text/plain": [
       "'My name is Ritesh'"
      ]
     },
     "execution_count": 4,
     "metadata": {},
     "output_type": "execute_result"
    }
   ],
   "source": [
    "s"
   ]
  },
  {
   "cell_type": "code",
   "execution_count": 6,
   "id": "7c3a97e9",
   "metadata": {},
   "outputs": [],
   "source": [
    "s = '''\n",
    "My\n",
    "Name is\n",
    "Ritesh'''"
   ]
  },
  {
   "cell_type": "code",
   "execution_count": 7,
   "id": "f4490fa9",
   "metadata": {},
   "outputs": [
    {
     "data": {
      "text/plain": [
       "'\\nMy\\nName is\\nRitesh'"
      ]
     },
     "execution_count": 7,
     "metadata": {},
     "output_type": "execute_result"
    }
   ],
   "source": [
    "s"
   ]
  },
  {
   "cell_type": "code",
   "execution_count": 8,
   "id": "9566264f",
   "metadata": {},
   "outputs": [
    {
     "data": {
      "text/plain": [
       "'\\n'"
      ]
     },
     "execution_count": 8,
     "metadata": {},
     "output_type": "execute_result"
    }
   ],
   "source": [
    "s[0]"
   ]
  },
  {
   "cell_type": "code",
   "execution_count": 9,
   "id": "55d4a356",
   "metadata": {},
   "outputs": [
    {
     "data": {
      "text/plain": [
       "'M'"
      ]
     },
     "execution_count": 9,
     "metadata": {},
     "output_type": "execute_result"
    }
   ],
   "source": [
    "s[1]"
   ]
  },
  {
   "cell_type": "code",
   "execution_count": 10,
   "id": "95153c96",
   "metadata": {},
   "outputs": [
    {
     "data": {
      "text/plain": [
       "'\\n'"
      ]
     },
     "execution_count": 10,
     "metadata": {},
     "output_type": "execute_result"
    }
   ],
   "source": [
    "s[3]"
   ]
  },
  {
   "cell_type": "markdown",
   "id": "4e6f38d1",
   "metadata": {},
   "source": [
    "# How strings are stored"
   ]
  },
  {
   "cell_type": "code",
   "execution_count": 12,
   "id": "8226ee6b",
   "metadata": {},
   "outputs": [],
   "source": [
    "s = \"Ritesh\""
   ]
  },
  {
   "cell_type": "code",
   "execution_count": 13,
   "id": "6289d395",
   "metadata": {},
   "outputs": [
    {
     "data": {
      "text/plain": [
       "140258535821040"
      ]
     },
     "execution_count": 13,
     "metadata": {},
     "output_type": "execute_result"
    }
   ],
   "source": [
    "id(s)"
   ]
  },
  {
   "cell_type": "code",
   "execution_count": 14,
   "id": "1671f03b",
   "metadata": {},
   "outputs": [
    {
     "name": "stdout",
     "output_type": "stream",
     "text": [
      "Ritesh\n"
     ]
    }
   ],
   "source": [
    "print(s)"
   ]
  },
  {
   "cell_type": "code",
   "execution_count": 15,
   "id": "07d19c6e",
   "metadata": {},
   "outputs": [],
   "source": [
    "a = \"Rohilla\""
   ]
  },
  {
   "cell_type": "code",
   "execution_count": 16,
   "id": "69cf8011",
   "metadata": {},
   "outputs": [
    {
     "data": {
      "text/plain": [
       "140258535963504"
      ]
     },
     "execution_count": 16,
     "metadata": {},
     "output_type": "execute_result"
    }
   ],
   "source": [
    "id(a)"
   ]
  },
  {
   "cell_type": "code",
   "execution_count": 17,
   "id": "d1212479",
   "metadata": {},
   "outputs": [
    {
     "name": "stdout",
     "output_type": "stream",
     "text": [
      "Rohilla\n"
     ]
    }
   ],
   "source": [
    "print(a)"
   ]
  },
  {
   "cell_type": "code",
   "execution_count": 18,
   "id": "2602971f",
   "metadata": {},
   "outputs": [],
   "source": [
    "a = \"Ritesh\""
   ]
  },
  {
   "cell_type": "code",
   "execution_count": 19,
   "id": "423fc51b",
   "metadata": {},
   "outputs": [
    {
     "data": {
      "text/plain": [
       "140258535821040"
      ]
     },
     "execution_count": 19,
     "metadata": {},
     "output_type": "execute_result"
    }
   ],
   "source": [
    "id(a)"
   ]
  },
  {
   "cell_type": "code",
   "execution_count": 20,
   "id": "c845e246",
   "metadata": {},
   "outputs": [
    {
     "name": "stdout",
     "output_type": "stream",
     "text": [
      "Ritesh\n"
     ]
    }
   ],
   "source": [
    "print(a)"
   ]
  },
  {
   "cell_type": "code",
   "execution_count": 21,
   "id": "381663be",
   "metadata": {},
   "outputs": [
    {
     "data": {
      "text/plain": [
       "140258535821040"
      ]
     },
     "execution_count": 21,
     "metadata": {},
     "output_type": "execute_result"
    }
   ],
   "source": [
    "id(s)"
   ]
  },
  {
   "cell_type": "markdown",
   "id": "58ab7264",
   "metadata": {},
   "source": [
    "Strings are immutabe in python"
   ]
  },
  {
   "cell_type": "raw",
   "id": "f4797527",
   "metadata": {},
   "source": [
    "Concatenation of strings"
   ]
  },
  {
   "cell_type": "markdown",
   "id": "7f75a09a",
   "metadata": {},
   "source": [
    "Slicing of strings"
   ]
  },
  {
   "cell_type": "code",
   "execution_count": 22,
   "id": "6deb30ab",
   "metadata": {},
   "outputs": [],
   "source": [
    "s = \"Ritesh\""
   ]
  },
  {
   "cell_type": "code",
   "execution_count": 23,
   "id": "46f9a002",
   "metadata": {},
   "outputs": [
    {
     "data": {
      "text/plain": [
       "'Ritesh'"
      ]
     },
     "execution_count": 23,
     "metadata": {},
     "output_type": "execute_result"
    }
   ],
   "source": [
    "s"
   ]
  },
  {
   "cell_type": "code",
   "execution_count": 24,
   "id": "706f8d0a",
   "metadata": {},
   "outputs": [
    {
     "data": {
      "text/plain": [
       "'i'"
      ]
     },
     "execution_count": 24,
     "metadata": {},
     "output_type": "execute_result"
    }
   ],
   "source": [
    "s[1:2]"
   ]
  },
  {
   "cell_type": "code",
   "execution_count": 25,
   "id": "bf477f45",
   "metadata": {},
   "outputs": [
    {
     "data": {
      "text/plain": [
       "'Rites'"
      ]
     },
     "execution_count": 25,
     "metadata": {},
     "output_type": "execute_result"
    }
   ],
   "source": [
    "s[0:5:1]"
   ]
  },
  {
   "cell_type": "code",
   "execution_count": 26,
   "id": "bdcba67f",
   "metadata": {},
   "outputs": [
    {
     "data": {
      "text/plain": [
       "'Rts'"
      ]
     },
     "execution_count": 26,
     "metadata": {},
     "output_type": "execute_result"
    }
   ],
   "source": [
    "s[0:6:2]"
   ]
  },
  {
   "cell_type": "code",
   "execution_count": 27,
   "id": "005f4d53",
   "metadata": {},
   "outputs": [
    {
     "data": {
      "text/plain": [
       "'ieh'"
      ]
     },
     "execution_count": 27,
     "metadata": {},
     "output_type": "execute_result"
    }
   ],
   "source": [
    "s[1:6:2]"
   ]
  },
  {
   "cell_type": "code",
   "execution_count": 28,
   "id": "ab463f56",
   "metadata": {},
   "outputs": [
    {
     "data": {
      "text/plain": [
       "'Rts'"
      ]
     },
     "execution_count": 28,
     "metadata": {},
     "output_type": "execute_result"
    }
   ],
   "source": [
    "s[-7:-1:2]"
   ]
  },
  {
   "cell_type": "code",
   "execution_count": 29,
   "id": "ca744e5a",
   "metadata": {},
   "outputs": [
    {
     "data": {
      "text/plain": [
       "'Rts'"
      ]
     },
     "execution_count": 29,
     "metadata": {},
     "output_type": "execute_result"
    }
   ],
   "source": [
    "s[-7:-1:2]"
   ]
  },
  {
   "cell_type": "code",
   "execution_count": 30,
   "id": "67dd08b5",
   "metadata": {},
   "outputs": [
    {
     "data": {
      "text/plain": [
       "'Rts'"
      ]
     },
     "execution_count": 30,
     "metadata": {},
     "output_type": "execute_result"
    }
   ],
   "source": [
    "s[-6:-1:2]"
   ]
  },
  {
   "cell_type": "code",
   "execution_count": 34,
   "id": "a4946787",
   "metadata": {},
   "outputs": [
    {
     "data": {
      "text/plain": [
       "'ie'"
      ]
     },
     "execution_count": 34,
     "metadata": {},
     "output_type": "execute_result"
    }
   ],
   "source": [
    "s[-5:-1:2]"
   ]
  },
  {
   "cell_type": "code",
   "execution_count": 35,
   "id": "a24d0a56",
   "metadata": {},
   "outputs": [
    {
     "data": {
      "text/plain": [
       "'set'"
      ]
     },
     "execution_count": 35,
     "metadata": {},
     "output_type": "execute_result"
    }
   ],
   "source": [
    "s[4:1:-1]"
   ]
  },
  {
   "cell_type": "code",
   "execution_count": 36,
   "id": "5d99a4e1",
   "metadata": {},
   "outputs": [
    {
     "data": {
      "text/plain": [
       "'hsetiR'"
      ]
     },
     "execution_count": 36,
     "metadata": {},
     "output_type": "execute_result"
    }
   ],
   "source": [
    "s[5::-1]"
   ]
  },
  {
   "cell_type": "markdown",
   "id": "0692b30d",
   "metadata": {},
   "source": [
    "# Iterating on String"
   ]
  },
  {
   "cell_type": "code",
   "execution_count": 37,
   "id": "563c84c7",
   "metadata": {},
   "outputs": [],
   "source": [
    "str = \"Hello World\""
   ]
  },
  {
   "cell_type": "code",
   "execution_count": 39,
   "id": "0140262e",
   "metadata": {},
   "outputs": [
    {
     "name": "stdout",
     "output_type": "stream",
     "text": [
      "3\n"
     ]
    }
   ],
   "source": [
    "count = 0\n",
    "for letter in str:\n",
    "    if(letter == 'l'):\n",
    "        count = count + 1\n",
    "print(count)"
   ]
  },
  {
   "cell_type": "code",
   "execution_count": 40,
   "id": "0db6b912",
   "metadata": {},
   "outputs": [
    {
     "name": "stdout",
     "output_type": "stream",
     "text": [
      "3\n"
     ]
    }
   ],
   "source": [
    "count = 0\n",
    "for i in range(len(str)):\n",
    "    if(str[i] == 'l'):\n",
    "        count = count + 1\n",
    "print(count)"
   ]
  },
  {
   "cell_type": "markdown",
   "id": "86614621",
   "metadata": {},
   "source": [
    "in and not in operation in string"
   ]
  },
  {
   "cell_type": "code",
   "execution_count": 41,
   "id": "5ca9f193",
   "metadata": {},
   "outputs": [],
   "source": [
    "str = \"HelloWorld\""
   ]
  },
  {
   "cell_type": "code",
   "execution_count": 43,
   "id": "7c2bfc10",
   "metadata": {},
   "outputs": [
    {
     "name": "stdout",
     "output_type": "stream",
     "text": [
      "Yes it is substring\n"
     ]
    }
   ],
   "source": [
    "if 'oWo' in str:\n",
    "    print('Yes it is substring')"
   ]
  },
  {
   "cell_type": "markdown",
   "id": "be9b265e",
   "metadata": {},
   "source": [
    "comparison operators on string"
   ]
  },
  {
   "cell_type": "raw",
   "id": "da1129e7",
   "metadata": {},
   "source": [
    "= <= < > == != "
   ]
  },
  {
   "cell_type": "code",
   "execution_count": 45,
   "id": "3b5cf019",
   "metadata": {},
   "outputs": [],
   "source": [
    "a = \"Ritesh\" == \"Ritesh\""
   ]
  },
  {
   "cell_type": "code",
   "execution_count": 46,
   "id": "bd5739d2",
   "metadata": {},
   "outputs": [
    {
     "data": {
      "text/plain": [
       "True"
      ]
     },
     "execution_count": 46,
     "metadata": {},
     "output_type": "execute_result"
    }
   ],
   "source": [
    "a"
   ]
  },
  {
   "cell_type": "markdown",
   "id": "e8c564ac",
   "metadata": {},
   "source": [
    "# FunctionsOfString"
   ]
  },
  {
   "cell_type": "markdown",
   "id": "17cd271f",
   "metadata": {},
   "source": [
    "split function"
   ]
  },
  {
   "cell_type": "code",
   "execution_count": 53,
   "id": "a8b4cda1",
   "metadata": {},
   "outputs": [
    {
     "name": "stdout",
     "output_type": "stream",
     "text": [
      "['MyNameIsRiteshRohilla']\n"
     ]
    }
   ],
   "source": [
    "str = \"MyNameIsRiteshRohilla\"\n",
    "li = str.split(';')\n",
    "print(li)"
   ]
  },
  {
   "cell_type": "markdown",
   "id": "ebe9abff",
   "metadata": {},
   "source": [
    "replace"
   ]
  },
  {
   "cell_type": "code",
   "execution_count": 54,
   "id": "f6d78f5e",
   "metadata": {},
   "outputs": [
    {
     "name": "stdout",
     "output_type": "stream",
     "text": [
      "My Name Is Ritika Rohilla\n"
     ]
    }
   ],
   "source": [
    "str = \"My Name Is Ritesh Rohilla\"\n",
    "str = str.replace(\"Ritesh\", \"Ritika\")\n",
    "print(str)"
   ]
  },
  {
   "cell_type": "markdown",
   "id": "3ecfcea5",
   "metadata": {},
   "source": [
    "find"
   ]
  },
  {
   "cell_type": "code",
   "execution_count": 58,
   "id": "6e9c6c85",
   "metadata": {},
   "outputs": [
    {
     "name": "stdout",
     "output_type": "stream",
     "text": [
      "18\n"
     ]
    }
   ],
   "source": [
    "str = \"my name is ritesh ritesh\"\n",
    "index = str.find(\"rit\", 16,21)\n",
    "print(index)"
   ]
  },
  {
   "cell_type": "markdown",
   "id": "9dad285a",
   "metadata": {},
   "source": [
    "lower and upper"
   ]
  },
  {
   "cell_type": "code",
   "execution_count": 61,
   "id": "e0eaa50f",
   "metadata": {},
   "outputs": [
    {
     "name": "stdout",
     "output_type": "stream",
     "text": [
      "my name is ritesh rohilla\n",
      "MY NAME IS RITESH ROHILLA\n"
     ]
    }
   ],
   "source": [
    "str = \"My Name is Ritesh Rohilla\"\n",
    "str = str.lower()\n",
    "print(str)\n",
    "str = str.upper()\n",
    "print(str)"
   ]
  },
  {
   "cell_type": "markdown",
   "id": "618d94cb",
   "metadata": {},
   "source": [
    "StartsWith"
   ]
  },
  {
   "cell_type": "code",
   "execution_count": 64,
   "id": "f059139e",
   "metadata": {},
   "outputs": [
    {
     "name": "stdout",
     "output_type": "stream",
     "text": [
      "True\n"
     ]
    }
   ],
   "source": [
    "str = \"My Name is Ritesh Rohilla\"\n",
    "ans = str.startswith(\"My Na\")\n",
    "print(ans)"
   ]
  },
  {
   "cell_type": "markdown",
   "id": "cca8d7d7",
   "metadata": {},
   "source": [
    "replaceCharacter"
   ]
  },
  {
   "cell_type": "code",
   "execution_count": 65,
   "id": "7292a1ab",
   "metadata": {},
   "outputs": [
    {
     "name": "stdout",
     "output_type": "stream",
     "text": [
      " fdafdavxz\n"
     ]
    }
   ],
   "source": [
    "def replace(str, char1, char2):\n",
    "    newStr = \" \"\n",
    "    for char in str:\n",
    "        if(char == char1):\n",
    "            newStr += char2\n",
    "        else:\n",
    "            newStr += char\n",
    "    return newStr\n",
    "\n",
    "str = \"fsafsavxz\"\n",
    "str = replace(str, 's', 'd')\n",
    "print(str)"
   ]
  },
  {
   "cell_type": "markdown",
   "id": "9ebdd9bf",
   "metadata": {},
   "source": [
    "Count vowels, consonants, digits and special characters in strigns"
   ]
  },
  {
   "cell_type": "code",
   "execution_count": 70,
   "id": "9b0a58f0",
   "metadata": {},
   "outputs": [
    {
     "data": {
      "text/plain": [
       "str"
      ]
     },
     "execution_count": 70,
     "metadata": {},
     "output_type": "execute_result"
    }
   ],
   "source": [
    "def countInString(str):\n",
    "    v,c,d,s = 0,0,0,0\n",
    "    for char in str:\n",
    "        \n",
    "        if((char>='a' and char<='z') or (char>='A' and char<='z')):\n",
    "            \n",
    "            char = char.lower()\n",
    "\n",
    "str = \"kgjgk4342sdjf f@#$434 afasfsf\"\n",
    "type(str[0])"
   ]
  },
  {
   "cell_type": "code",
   "execution_count": null,
   "id": "4e7aafb3",
   "metadata": {},
   "outputs": [],
   "source": []
  }
 ],
 "metadata": {
  "kernelspec": {
   "display_name": "Python 3 (ipykernel)",
   "language": "python",
   "name": "python3"
  },
  "language_info": {
   "codemirror_mode": {
    "name": "ipython",
    "version": 3
   },
   "file_extension": ".py",
   "mimetype": "text/x-python",
   "name": "python",
   "nbconvert_exporter": "python",
   "pygments_lexer": "ipython3",
   "version": "3.9.12"
  }
 },
 "nbformat": 4,
 "nbformat_minor": 5
}
