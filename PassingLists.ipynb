{
 "cells": [
  {
   "cell_type": "markdown",
   "id": "feffbe99",
   "metadata": {},
   "source": [
    "Passing Lists through functions"
   ]
  },
  {
   "cell_type": "code",
   "execution_count": 2,
   "id": "d4a6316d",
   "metadata": {},
   "outputs": [
    {
     "name": "stdout",
     "output_type": "stream",
     "text": [
      "[3, 2, 3, 4]\n"
     ]
    }
   ],
   "source": [
    " def increment(li):\n",
    "        li[0] = li[0] + 2\n",
    "        li = [3,3,4]\n",
    "        return\n",
    "    \n",
    "li = [1,2,3,4]\n",
    "li = increment(li)\n",
    "print(li)"
   ]
  },
  {
   "cell_type": "code",
   "execution_count": null,
   "id": "9b0ce5fe",
   "metadata": {},
   "outputs": [],
   "source": []
  }
 ],
 "metadata": {
  "kernelspec": {
   "display_name": "Python 3 (ipykernel)",
   "language": "python",
   "name": "python3"
  },
  "language_info": {
   "codemirror_mode": {
    "name": "ipython",
    "version": 3
   },
   "file_extension": ".py",
   "mimetype": "text/x-python",
   "name": "python",
   "nbconvert_exporter": "python",
   "pygments_lexer": "ipython3",
   "version": "3.9.12"
  }
 },
 "nbformat": 4,
 "nbformat_minor": 5
}
